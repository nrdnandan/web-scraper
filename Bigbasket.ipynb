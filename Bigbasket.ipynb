{
 "cells": [
  {
   "cell_type": "markdown",
   "metadata": {},
   "source": [
    "**Import Libraries**"
   ]
  },
  {
   "cell_type": "code",
   "execution_count": 1,
   "metadata": {},
   "outputs": [],
   "source": [
    "from selenium import webdriver\n",
    "from selenium.webdriver.firefox.firefox_profile import FirefoxProfile\n",
    "import os\n",
    "from stem import Signal\n",
    "from stem.control import Controller\n",
    "from selenium.webdriver.support.ui import WebDriverWait\n",
    "from selenium.webdriver.common.by import By\n",
    "from selenium.webdriver.support import expected_conditions as EC\n",
    "import time\n",
    "import pandas as pd\n",
    "import requests\n",
    "from bs4 import BeautifulSoup as bs\n",
    "from tqdm.notebook import tqdm"
   ]
  },
  {
   "cell_type": "markdown",
   "metadata": {},
   "source": [
    "**Add Socks proxy for proxy rotation**"
   ]
  },
  {
   "cell_type": "code",
   "execution_count": 2,
   "metadata": {},
   "outputs": [],
   "source": [
    "proxies = {\n",
    "    'http': 'socks5://127.0.0.1:9050',\n",
    "    'https': 'socks5://127.0.0.1:9050'\n",
    "}"
   ]
  },
  {
   "cell_type": "markdown",
   "metadata": {},
   "source": [
    "**Generate hashed password and edit /etc/tor/torrc and /usr/share/tor/tor-service-defaults-torrc file and add \n",
    "<br>ControlPort 9051\n",
    "<br>CookieAuthentication 1\n",
    "<br>CookieAuthFileGroupReadable 1\n",
    "<br>HashedControlPassword 'Put output of tor --hash-password 'put your password here''\n",
    "<br>and go to /var/run/tor and delete all files\n",
    "<br>then run sudo /etc/init.d/tor restart \n",
    "<br>it will generate new files which will be used below**"
   ]
  },
  {
   "cell_type": "code",
   "execution_count": 3,
   "metadata": {},
   "outputs": [],
   "source": [
    "with Controller.from_port(port = 9051) as c:\n",
    "    c.authenticate('Put password here') #tor --hash-password 'put password here'\n",
    "    c.signal(Signal.NEWNYM)\n",
    "\n",
    "\n",
    "url_raw = requests.get('https://www.bigbasket.com/product/all-categories/',proxies=proxies).text"
   ]
  },
  {
   "cell_type": "code",
   "execution_count": 5,
   "metadata": {},
   "outputs": [],
   "source": [
    "html_content = bs(url_raw,'html.parser') #Generate raw html page source"
   ]
  },
  {
   "cell_type": "code",
   "execution_count": 6,
   "metadata": {},
   "outputs": [],
   "source": [
    "test = html_content.find_all('a',class_='bdr-btm',href=True) #Get the categories of items"
   ]
  },
  {
   "cell_type": "code",
   "execution_count": 7,
   "metadata": {},
   "outputs": [],
   "source": [
    "cat_list = []\n",
    "for i in test:\n",
    "    cat_list.append(i['href'])"
   ]
  },
  {
   "cell_type": "code",
   "execution_count": 210,
   "metadata": {},
   "outputs": [
    {
     "data": {
      "text/plain": [
       "['/cl/fruits-vegetables/',\n",
       " '/cl/foodgrains-oil-masala/',\n",
       " '/cl/bakery-cakes-dairy/',\n",
       " '/cl/beverages/',\n",
       " '/cl/snacks-branded-foods/',\n",
       " '/cl/beauty-hygiene/',\n",
       " '/cl/cleaning-household/',\n",
       " '/cl/kitchen-garden-pets/',\n",
       " '/cl/eggs-meat-fish/',\n",
       " '/cl/gourmet-world-food/',\n",
       " '/cl/baby-care/',\n",
       " '/cl/fruits-vegetables/',\n",
       " '/cl/foodgrains-oil-masala/',\n",
       " '/cl/bakery-cakes-dairy/',\n",
       " '/cl/beverages/',\n",
       " '/cl/snacks-branded-foods/',\n",
       " '/cl/beauty-hygiene/',\n",
       " '/cl/cleaning-household/',\n",
       " '/cl/kitchen-garden-pets/',\n",
       " '/cl/eggs-meat-fish/',\n",
       " '/cl/gourmet-world-food/',\n",
       " '/cl/baby-care/']"
      ]
     },
     "execution_count": 210,
     "metadata": {},
     "output_type": "execute_result"
    }
   ],
   "source": [
    "cat_list #List of categories"
   ]
  },
  {
   "cell_type": "markdown",
   "metadata": {},
   "source": [
    "**Run tor with rotating proxy for each category and scroll down to the end of page untill end of page is reached\n",
    "<br> then after page 6 we need to click \"Show More\" button and run end of page code\n",
    "<br> For different IP different list of items are returned and all items in the category is not returned\n",
    "<br> Finally, we put it in pandas dataframe and export as csv file**"
   ]
  },
  {
   "cell_type": "code",
   "execution_count": 278,
   "metadata": {},
   "outputs": [
    {
     "data": {
      "application/vnd.jupyter.widget-view+json": {
       "model_id": "ec8409960b9f4e498b6a23612f74e2f8",
       "version_major": 2,
       "version_minor": 0
      },
      "text/plain": [
       "HBox(children=(FloatProgress(value=0.0, max=5.0), HTML(value='')))"
      ]
     },
     "metadata": {},
     "output_type": "display_data"
    },
    {
     "name": "stdout",
     "output_type": "stream",
     "text": [
      "\n"
     ]
    }
   ],
   "source": [
    "for cat in tqdm(cat_list[6:11]):\n",
    "    with Controller.from_port(port = 9051) as c:\n",
    "        c.authenticate('Put password here')\n",
    "        c.signal(Signal.NEWNYM)\n",
    "    profile = FirefoxProfile(r'/home/neerad/Downloads/tor-browser_en-US/Browser/TorBrowser/Data/Browser/profile.default')\n",
    "    profile.set_preference('network.proxy.type', 1)\n",
    "    profile.set_preference('network.proxy.socks', '127.0.0.1')\n",
    "    profile.set_preference('network.proxy.socks_port', 9050)\n",
    "    profile.set_preference(\"network.proxy.socks_remote_dns\", False)\n",
    "    profile.update_preferences()\n",
    "    driver = webdriver.Firefox(firefox_profile= profile, executable_path=r'/home/neerad/Downloads/geckodriver')\n",
    "    driver.get(\"https://www.bigbasket.com\"+cat+\"?nc=cs\")\n",
    "    lenOfPage = driver.execute_script(\"window.scrollTo(0, document.body.scrollHeight);var lenOfPage=document.body.scrollHeight;return lenOfPage;\")\n",
    "    match=False\n",
    "    while(match==False):\n",
    "        lastCount = lenOfPage\n",
    "        time.sleep(3)\n",
    "        lenOfPage = driver.execute_script(\"window.scrollTo(0, document.body.scrollHeight);var lenOfPage=document.body.scrollHeight;return lenOfPage;\")\n",
    "        try:\n",
    "            driver.find_elements_by_xpath('//div[@class=\"show-more\"]')[0].find_element_by_css_selector('button').click()\n",
    "            lenOfPage = driver.execute_script(\"window.scrollTo(0, document.body.scrollHeight);var lenOfPage=document.body.scrollHeight;return lenOfPage;\")\n",
    "            lastCount = lenOfPage\n",
    "            time.sleep(3)\n",
    "            lenOfPage = driver.execute_script(\"window.scrollTo(0, document.body.scrollHeight);var lenOfPage=document.body.scrollHeight;return lenOfPage;\")\n",
    "        except:\n",
    "            pass\n",
    "        if lastCount==lenOfPage:\n",
    "            match=True\n",
    "            main = driver.find_elements_by_xpath('//*[@id=\"dynamicDirective\"]/product-deck/section/div[2]/div[4]/div[1]/div/div/div[2]')\n",
    "            brand = [i.text for i in main[0].find_elements_by_xpath('//div[@class=\"col-sm-12 col-xs-7 prod-name\"]//h6[@class=\"ng-binding\"]')]\n",
    "            name = [j.text for j in main[0].find_elements_by_xpath('//div[@class=\"col-sm-12 col-xs-7 prod-name\"]//a')]\n",
    "            quant = [k.text for k in main[0].find_elements_by_xpath('//div[@class=\"col-sm-12 col-xs-7 qnty-selection\"]//span[@data-bind=\"label\"]//span[@class=\"ng-binding\"][1]')]\n",
    "            price = [l.text for l in main[0].find_elements_by_xpath('//div[@class=\"po-markup\"]//span[@class=\"discnt-price\"]//span[@class=\"ng-binding\"]')]\n",
    "            globals()['df_'+cat[4:-1].replace('-','_')] = pd.DataFrame({'Brand':brand,'Item_name':name,'Quantity':quant,'Price in Rupees':price})\n",
    "    time.sleep(5)\n",
    "    driver.quit()\n",
    "\n",
    "        "
   ]
  },
  {
   "cell_type": "code",
   "execution_count": 272,
   "metadata": {},
   "outputs": [],
   "source": [
    "df_bakery_cakes_dairy.to_csv('bakery_cakes_dairy.csv')"
   ]
  },
  {
   "cell_type": "code",
   "execution_count": 273,
   "metadata": {},
   "outputs": [
    {
     "data": {
      "text/html": [
       "<div>\n",
       "<style scoped>\n",
       "    .dataframe tbody tr th:only-of-type {\n",
       "        vertical-align: middle;\n",
       "    }\n",
       "\n",
       "    .dataframe tbody tr th {\n",
       "        vertical-align: top;\n",
       "    }\n",
       "\n",
       "    .dataframe thead th {\n",
       "        text-align: right;\n",
       "    }\n",
       "</style>\n",
       "<table border=\"1\" class=\"dataframe\">\n",
       "  <thead>\n",
       "    <tr style=\"text-align: right;\">\n",
       "      <th></th>\n",
       "      <th>Brand</th>\n",
       "      <th>Item_name</th>\n",
       "      <th>Quantity</th>\n",
       "      <th>Price in Rupees</th>\n",
       "    </tr>\n",
       "  </thead>\n",
       "  <tbody>\n",
       "    <tr>\n",
       "      <th>0</th>\n",
       "      <td>Nandini GoodLife</td>\n",
       "      <td>Toned Milk</td>\n",
       "      <td>500 ml</td>\n",
       "      <td>25</td>\n",
       "    </tr>\n",
       "    <tr>\n",
       "      <th>1</th>\n",
       "      <td>Milky Mist</td>\n",
       "      <td>Paneer - Premium Fresh</td>\n",
       "      <td>500 g</td>\n",
       "      <td>188</td>\n",
       "    </tr>\n",
       "    <tr>\n",
       "      <th>2</th>\n",
       "      <td>Amul</td>\n",
       "      <td>Butter - Pasteurised</td>\n",
       "      <td>100 g</td>\n",
       "      <td>48</td>\n",
       "    </tr>\n",
       "    <tr>\n",
       "      <th>3</th>\n",
       "      <td>Milky Mist</td>\n",
       "      <td>Curd - Farm Fresh</td>\n",
       "      <td>2x500 g</td>\n",
       "      <td>70</td>\n",
       "    </tr>\n",
       "    <tr>\n",
       "      <th>4</th>\n",
       "      <td>Fresho</td>\n",
       "      <td>Bread - Whole Wheat, Chemical Free 400G + Eggs...</td>\n",
       "      <td>Combo</td>\n",
       "      <td>188</td>\n",
       "    </tr>\n",
       "    <tr>\n",
       "      <th>...</th>\n",
       "      <td>...</td>\n",
       "      <td>...</td>\n",
       "      <td>...</td>\n",
       "      <td>...</td>\n",
       "    </tr>\n",
       "    <tr>\n",
       "      <th>718</th>\n",
       "      <td>Baskin Robbins</td>\n",
       "      <td>Ice Cream Bar - Cookies n Cream</td>\n",
       "      <td>65 ml</td>\n",
       "      <td>65</td>\n",
       "    </tr>\n",
       "    <tr>\n",
       "      <th>719</th>\n",
       "      <td>MOOZ</td>\n",
       "      <td>Sour Cream Peri Peri</td>\n",
       "      <td>150 g</td>\n",
       "      <td>220</td>\n",
       "    </tr>\n",
       "    <tr>\n",
       "      <th>720</th>\n",
       "      <td>Baskin Robbins</td>\n",
       "      <td>Ice Cream Bar - Almonds n Caramel</td>\n",
       "      <td>65 ml</td>\n",
       "      <td>65</td>\n",
       "    </tr>\n",
       "    <tr>\n",
       "      <th>721</th>\n",
       "      <td>Baskin Robbins</td>\n",
       "      <td>Ice Cream - Very Berry Strawberry</td>\n",
       "      <td>450 ml</td>\n",
       "      <td>275</td>\n",
       "    </tr>\n",
       "    <tr>\n",
       "      <th>722</th>\n",
       "      <td>Murginns</td>\n",
       "      <td>Unsalted White Butter</td>\n",
       "      <td>150 g</td>\n",
       "      <td>180</td>\n",
       "    </tr>\n",
       "  </tbody>\n",
       "</table>\n",
       "<p>723 rows × 4 columns</p>\n",
       "</div>"
      ],
      "text/plain": [
       "                Brand                                          Item_name  \\\n",
       "0    Nandini GoodLife                                         Toned Milk   \n",
       "1          Milky Mist                             Paneer - Premium Fresh   \n",
       "2                Amul                               Butter - Pasteurised   \n",
       "3          Milky Mist                                  Curd - Farm Fresh   \n",
       "4              Fresho  Bread - Whole Wheat, Chemical Free 400G + Eggs...   \n",
       "..                ...                                                ...   \n",
       "718    Baskin Robbins                    Ice Cream Bar - Cookies n Cream   \n",
       "719              MOOZ                               Sour Cream Peri Peri   \n",
       "720    Baskin Robbins                  Ice Cream Bar - Almonds n Caramel   \n",
       "721    Baskin Robbins                  Ice Cream - Very Berry Strawberry   \n",
       "722          Murginns                              Unsalted White Butter   \n",
       "\n",
       "    Quantity Price in Rupees  \n",
       "0     500 ml              25  \n",
       "1      500 g             188  \n",
       "2      100 g              48  \n",
       "3    2x500 g              70  \n",
       "4      Combo             188  \n",
       "..       ...             ...  \n",
       "718    65 ml              65  \n",
       "719    150 g             220  \n",
       "720    65 ml              65  \n",
       "721   450 ml             275  \n",
       "722    150 g             180  \n",
       "\n",
       "[723 rows x 4 columns]"
      ]
     },
     "execution_count": 273,
     "metadata": {},
     "output_type": "execute_result"
    }
   ],
   "source": [
    "df_bakery_cakes_dairy"
   ]
  },
  {
   "cell_type": "code",
   "execution_count": 285,
   "metadata": {},
   "outputs": [],
   "source": [
    "df_baby_care.to_csv('baby_care.csv')"
   ]
  },
  {
   "cell_type": "code",
   "execution_count": null,
   "metadata": {},
   "outputs": [],
   "source": []
  }
 ],
 "metadata": {
  "kernelspec": {
   "display_name": "Python 3",
   "language": "python",
   "name": "python3"
  },
  "language_info": {
   "codemirror_mode": {
    "name": "ipython",
    "version": 3
   },
   "file_extension": ".py",
   "mimetype": "text/x-python",
   "name": "python",
   "nbconvert_exporter": "python",
   "pygments_lexer": "ipython3",
   "version": "3.8.2"
  }
 },
 "nbformat": 4,
 "nbformat_minor": 4
}
