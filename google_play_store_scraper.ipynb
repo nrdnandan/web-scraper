{
 "cells": [
  {
   "cell_type": "code",
   "execution_count": 3,
   "metadata": {},
   "outputs": [
    {
     "name": "stdout",
     "output_type": "stream",
     "text": [
      "Defaulting to user installation because normal site-packages is not writeable\n",
      "Collecting google-play-scraper\n",
      "  Downloading google-play-scraper-0.1.2.tar.gz (49 kB)\n",
      "\u001b[K     |████████████████████████████████| 49 kB 356 kB/s eta 0:00:01\n",
      "\u001b[?25hBuilding wheels for collected packages: google-play-scraper\n",
      "  Building wheel for google-play-scraper (setup.py) ... \u001b[?25ldone\n",
      "\u001b[?25h  Created wheel for google-play-scraper: filename=google_play_scraper-0.1.2-py3-none-any.whl size=22279 sha256=c8e432cdb5ca826130f0560fe6352e34c3178f0aa4bebe926d54a00abf9dffb3\n",
      "  Stored in directory: /home/neerad/.cache/pip/wheels/8c/16/47/0ac3fa962581ee630c41543b7ea25b407ae008edcdc14a5626\n",
      "Successfully built google-play-scraper\n",
      "Installing collected packages: google-play-scraper\n",
      "Successfully installed google-play-scraper-0.1.2\n",
      "\u001b[33mWARNING: You are using pip version 20.2.4; however, version 20.3.3 is available.\n",
      "You should consider upgrading via the '/usr/bin/python3 -m pip install --upgrade pip' command.\u001b[0m\n"
     ]
    }
   ],
   "source": [
    "!pip install google-play-scraper"
   ]
  },
  {
   "cell_type": "code",
   "execution_count": 44,
   "metadata": {},
   "outputs": [],
   "source": [
    "from google_play_scraper import Sort, reviews_all,reviews\n",
    "import csv"
   ]
  },
  {
   "cell_type": "code",
   "execution_count": 19,
   "metadata": {},
   "outputs": [],
   "source": [
    "pgrbook = reviews_all(\n",
    "'com.gyantech.pagarbook',\n",
    "    lang='en', \n",
    "    country='in', \n",
    "    sort=Sort.MOST_RELEVANT\n",
    ")"
   ]
  },
  {
   "cell_type": "code",
   "execution_count": 42,
   "metadata": {},
   "outputs": [],
   "source": [
    "extract_key = {'content','score','thumbsUpCount'}"
   ]
  },
  {
   "cell_type": "code",
   "execution_count": 57,
   "metadata": {},
   "outputs": [],
   "source": [
    "csv_file = 'pagarbook.csv'\n",
    "with open(csv_file,'w') as f:\n",
    "    writer = csv.DictWriter(f,fieldnames=extract_key,extrasaction='ignore')\n",
    "    writer.writeheader()\n",
    "    for data in pgrbook:\n",
    "        writer.writerow(data)"
   ]
  },
  {
   "cell_type": "code",
   "execution_count": 58,
   "metadata": {},
   "outputs": [],
   "source": [
    "khtbook = reviews_all(\n",
    "    'com.vaibhavkalpe.android.khatabook',\n",
    "    lang='en',\n",
    "    country='in',\n",
    "    sort=Sort.MOST_RELEVANT\n",
    ")"
   ]
  },
  {
   "cell_type": "code",
   "execution_count": 59,
   "metadata": {},
   "outputs": [],
   "source": [
    "csv_file = 'khatabook.csv'\n",
    "with open(csv_file,'w') as f:\n",
    "    writer = csv.DictWriter(f,fieldnames=extract_key,extrasaction='ignore')\n",
    "    writer.writeheader()\n",
    "    for data in khtbook:\n",
    "        writer.writerow(data)"
   ]
  },
  {
   "cell_type": "code",
   "execution_count": 60,
   "metadata": {},
   "outputs": [],
   "source": [
    "okcredit = reviews_all(\n",
    "    'in.okcredit.merchant',\n",
    "    lang='en',\n",
    "    country='in',\n",
    "    sort=Sort.MOST_RELEVANT\n",
    ")"
   ]
  },
  {
   "cell_type": "code",
   "execution_count": 61,
   "metadata": {},
   "outputs": [],
   "source": [
    "csv_file = 'okcredit.csv'\n",
    "with open(csv_file,'w') as f:\n",
    "    writer = csv.DictWriter(f,fieldnames=extract_key,extrasaction='ignore')\n",
    "    writer.writeheader()\n",
    "    for data in okcredit:\n",
    "        writer.writerow(data)"
   ]
  },
  {
   "cell_type": "code",
   "execution_count": 62,
   "metadata": {},
   "outputs": [],
   "source": [
    "dukaan = reviews_all(\n",
    "    'com.khatabook.dukaan',\n",
    "    lang='en',\n",
    "    country='in',\n",
    "    sort=Sort.MOST_RELEVANT\n",
    ")"
   ]
  },
  {
   "cell_type": "code",
   "execution_count": 63,
   "metadata": {},
   "outputs": [],
   "source": [
    "csv_file = 'dukaan.csv'\n",
    "with open(csv_file,'w') as f:\n",
    "    writer = csv.DictWriter(f,fieldnames=extract_key,extrasaction='ignore')\n",
    "    writer.writeheader()\n",
    "    for data in dukaan:\n",
    "        writer.writerow(data)"
   ]
  },
  {
   "cell_type": "code",
   "execution_count": 64,
   "metadata": {},
   "outputs": [],
   "source": [
    "mydukaan = reviews_all(\n",
    "    'com.dukaan.app',\n",
    "    lang='en',\n",
    "    country='in',\n",
    "    sort=Sort.MOST_RELEVANT\n",
    ")"
   ]
  },
  {
   "cell_type": "code",
   "execution_count": 65,
   "metadata": {},
   "outputs": [],
   "source": [
    "csv_file = 'mydukaan.csv'\n",
    "with open(csv_file,'w') as f:\n",
    "    writer = csv.DictWriter(f,fieldnames=extract_key,extrasaction='ignore')\n",
    "    writer.writeheader()\n",
    "    for data in mydukaan:\n",
    "        writer.writerow(data)"
   ]
  },
  {
   "cell_type": "code",
   "execution_count": 66,
   "metadata": {},
   "outputs": [],
   "source": [
    "vyapar = reviews_all(\n",
    "    'in.android.vyapar',\n",
    "    lang='en',\n",
    "    country='in',\n",
    "    sort=Sort.MOST_RELEVANT\n",
    ")"
   ]
  },
  {
   "cell_type": "code",
   "execution_count": 67,
   "metadata": {},
   "outputs": [],
   "source": [
    "csv_file = 'vyapar.csv'\n",
    "with open(csv_file,'w') as f:\n",
    "    writer = csv.DictWriter(f,fieldnames=extract_key,extrasaction='ignore')\n",
    "    writer.writeheader()\n",
    "    for data in vyapar:\n",
    "        writer.writerow(data)"
   ]
  },
  {
   "cell_type": "code",
   "execution_count": null,
   "metadata": {},
   "outputs": [],
   "source": []
  }
 ],
 "metadata": {
  "kernelspec": {
   "display_name": "Python 3",
   "language": "python",
   "name": "python3"
  },
  "language_info": {
   "codemirror_mode": {
    "name": "ipython",
    "version": 3
   },
   "file_extension": ".py",
   "mimetype": "text/x-python",
   "name": "python",
   "nbconvert_exporter": "python",
   "pygments_lexer": "ipython3",
   "version": "3.6.9"
  }
 },
 "nbformat": 4,
 "nbformat_minor": 4
}
